{
 "cells": [
  {
   "cell_type": "markdown",
   "id": "e23cf151",
   "metadata": {},
   "source": [
    "<span style=\"font-size: 150%\">\n",
    "\n",
    "# Notebook of Markov Decision Process (MDP)\n",
    "This notebook was developed to explain a discrete MDP defined by a tuple $(\\mathcal{S})$. \n",
    "\n",
    "</span>"
   ]
  },
  {
   "cell_type": "code",
   "execution_count": null,
   "id": "b645d743",
   "metadata": {},
   "outputs": [],
   "source": [
    "import numpy as np\n",
    "\n",
    "from gym import Env, spaces, utils\n",
    "from ipywidgets import interact, fixed"
   ]
  },
  {
   "cell_type": "markdown",
   "id": "08393f23",
   "metadata": {},
   "source": [
    "# Two-Stage Task\n",
    "Two-stage MDP task used by \n",
    "- J. Gläscher, N. Daw, P. Dayan, and J.P. O’Doherty. (2010). [States versus Rewards: Dissociable Neural Prediction Error Signals Underlying Model-Based and Model-Free Reinforcement Learning](https://doi.org/10.1016/j.neuron.2010.04.016). Neuron, vol. 66, no. 4: 585–95.\n"
   ]
  },
  {
   "cell_type": "code",
   "execution_count": null,
   "id": "a0070977",
   "metadata": {},
   "outputs": [],
   "source": [
    "class TwoStageMDPEnv(Env):\n",
    "    def __init__(self):\n",
    "        self.nA = 2     # number of actions\n",
    "        self.nS = 6     # number of states\n",
    "        self.observation_space = spaces.Discrete(self.nS, )\n",
    "        self.action_space = spaces.Discrete(self.nA, )\n",
    "        \n",
    "        # set the state transitions and rewards        \n",
    "        self.P = {s: {a: [] for a in range(self.nA)} for s in range(self.nS)}\n",
    "        self.P[0][0] = [(0.7, 1, 0, False), (0.3, 2, 0, False)]\n",
    "        self.P[0][1] = [(0.7, 3, 0, False), (0.3, 4, 0, False)]\n",
    "        self.P[1][0] = [(0.7, 5, 10, True), (0.3, 5, 0, True)]\n",
    "        self.P[1][1] = [(0.7, 5, 0, True), (0.3, 5, 10, True)]\n",
    "        self.P[2][0] = [(0.7, 5, 0, True), (0.3, 5, 10, True)]\n",
    "        self.P[2][1] = [(0.7, 5, 0, True), (0.3, 5, 25, True)]\n",
    "        self.P[3][0] = [(0.7, 5, 25, True), (0.3, 5, 0, True)]\n",
    "        self.P[3][1] = [(0.7, 5, 10, True), (0.3, 5, 0, True)]\n",
    "        self.P[4][0] = [(0.7, 5, 0, True), (0.3, 5, 10, True)]\n",
    "        self.P[4][1] = [(0.7, 5, 0, True), (0.3, 5, 25, True)]\n",
    "        self.P[5][0] = [(1.0, 5, 0, True)]\n",
    "        self.P[5][1] = [(1.0, 5, 0, True)]\n",
    "        \n",
    "        self.start_state_index = 0\n",
    "        self.initial_state_distrib = np.zeros(self.nS)\n",
    "        self.initial_state_distrib[self.start_state_index] = 1.0\n",
    "    \n",
    "    def reset(self):\n",
    "        pass\n",
    "    \n",
    "    def step(self, action):\n",
    "        pass\n",
    "    \n",
    "    def render(self, mode='console', close=False):\n",
    "        pass\n"
   ]
  },
  {
   "cell_type": "markdown",
   "id": "2ad04c93",
   "metadata": {},
   "source": [
    "# Compute the state-values and action-values\n",
    "When $s$ is a terminal state, (that is, the second stage), the state-values and the action-values are respectively computed by\n",
    "$$Q^\\pi (s, a) = \\mathbb{E}_{r \\sim p(r \\mid s, a)} [r]$$,\n",
    "$$V^\\pi (s) = \\mathbb{E}_{a \\sim \\pi(a \\mid s)} [ Q^\\pi (s, a) ]$$,\n",
    "where $\\pi$ is a policy.\n",
    "When $s = s_1$, they are given by\n",
    "$$Q^\\pi (s, a) = \\mathbb{E}_{(s', r) \\sim p(r \\mid s, a)} [Q(s', a)]$$,\n",
    "$$V^\\pi (s) = \\mathbb{E}_{a \\sim \\pi(a \\mid s)} [ Q^\\pi (s, a) ]$$."
   ]
  },
  {
   "cell_type": "code",
   "execution_count": null,
   "id": "38f0c111",
   "metadata": {},
   "outputs": [],
   "source": [
    "def compute_value(env, p0=0.5, p1=0.5, p2=0.5, p3=0.5, p4=0.5):\n",
    "    policy = np.ones((env.nS, env.nA))/env.nA\n",
    "    policy[0:5, 0] = np.array([p0, p1, p2, p3, p4])\n",
    "    policy[0:5, 1] = 1.0 - policy[0:5, 0]\n",
    "    \n",
    "    Q = np.zeros([env.nS, env.nA])\n",
    "    V = np.zeros([env.nS, 1])\n",
    "\n",
    "    # compute the state- and action-values at the second stage\n",
    "    for state in range(0, env.nS):        \n",
    "        for action in range(0, env.nA):\n",
    "            for prob, next_state, reward, done in env.P[state][action]:\n",
    "                Q[state, action] += prob*reward\n",
    "\n",
    "            V[state] += (policy[state, action] * Q[state, action])\n",
    "\n",
    "    # compute the state- and action-values at the first stage\n",
    "    for action in range(0, env.nA):\n",
    "        for prob, next_state, reward, done in env.P[0][action]:\n",
    "            Q[0, action] += prob*(reward + V[next_state])\n",
    "\n",
    "        V[0] += (policy[0, action] * Q[0, action])\n",
    "\n",
    "    return V, Q\n",
    "\n",
    "\n",
    "\n",
    "def printVQ(V, Q):\n",
    "    print(V)\n",
    "    print(Q)"
   ]
  },
  {
   "cell_type": "markdown",
   "id": "b3e6ce67",
   "metadata": {},
   "source": [
    "# Results\n",
    "Here, p0 is the probability to select the action $a_0$ at the state $s_0$. Then, the probability to select $a_1$ at $s_0$ is given by $1 -$ p0. Similarly, p1 is the probability to select $a_0$ at $s_1$.\n",
    "The first array shows the state-value function, $V^\\pi (s)$. The second 2-D array shows the action-value function, $Q^\\pi(s, a)$. "
   ]
  },
  {
   "cell_type": "code",
   "execution_count": null,
   "id": "6704f056",
   "metadata": {},
   "outputs": [],
   "source": [
    "env = TwoStageMDPEnv()\n",
    "interact(compute_value, env=fixed(env), p0=(0, 1, 0.1), p1=(0, 1, 0.1), p2=(0, 1, 0.1), p3=(0, 1, 0.1), p4=(0, 1, 0.1))"
   ]
  },
  {
   "cell_type": "code",
   "execution_count": null,
   "id": "3938f0ab",
   "metadata": {},
   "outputs": [],
   "source": []
  }
 ],
 "metadata": {
  "kernelspec": {
   "display_name": "Python 3 (ipykernel)",
   "language": "python",
   "name": "python3"
  },
  "language_info": {
   "codemirror_mode": {
    "name": "ipython",
    "version": 3
   },
   "file_extension": ".py",
   "mimetype": "text/x-python",
   "name": "python",
   "nbconvert_exporter": "python",
   "pygments_lexer": "ipython3",
   "version": "3.10.4"
  }
 },
 "nbformat": 4,
 "nbformat_minor": 5
}
