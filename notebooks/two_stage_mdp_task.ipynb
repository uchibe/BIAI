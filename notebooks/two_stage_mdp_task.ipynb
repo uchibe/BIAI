{
 "cells": [
  {
   "cell_type": "markdown",
   "id": "e23cf151",
   "metadata": {},
   "source": [
    "# Notebook of Markov Decision Process (MDP)\n",
    "This notebook was developed to explain a discrete MDP defined by a tuple $(\\mathcal{S}, \\mathcal{A}, p, \\gamma)$, where $\\mathcal{S}$ is a finite set of states, $\\mathcal{A}$ is a finite set of actions, $p$ represents the joint probability for the next state and reward given the current state and action, and $\\gamma$ is a discount factor. "
   ]
  },
  {
   "cell_type": "code",
   "execution_count": null,
   "id": "b645d743",
   "metadata": {},
   "outputs": [],
   "source": [
    "import numpy as np\n",
    "import matplotlib.pyplot as plt\n",
    "from gym import Env, spaces, utils\n",
    "from ipywidgets import interact, fixed\n",
    "%matplotlib inline"
   ]
  },
  {
   "cell_type": "markdown",
   "id": "08393f23",
   "metadata": {},
   "source": [
    "# Two-Stage Task\n",
    "Two-stage MDP task used by \n",
    "- J. Gläscher, N. Daw, P. Dayan, and J.P. O’Doherty. (2010). [States versus Rewards: Dissociable Neural Prediction Error Signals Underlying Model-Based and Model-Free Reinforcement Learning](https://doi.org/10.1016/j.neuron.2010.04.016). Neuron, vol. 66, no. 4: 585–95.\n"
   ]
  },
  {
   "cell_type": "code",
   "execution_count": null,
   "id": "a0070977",
   "metadata": {},
   "outputs": [],
   "source": [
    "class TwoStageMDPEnv(Env):\n",
    "    def __init__(self):\n",
    "        self.nA = 2     # number of actions\n",
    "        self.nS = 6     # number of states\n",
    "        self.observation_space = spaces.Discrete(self.nS, )\n",
    "        self.action_space = spaces.Discrete(self.nA, )\n",
    "        \n",
    "        # Set the state transitions and rewards        \n",
    "        self.P = {s: {a: [] for a in range(self.nA)} for s in range(self.nS)}\n",
    "        self.P[0][0] = [(0.7, 1, 0, False), (0.3, 2, 0, False)]\n",
    "        self.P[0][1] = [(0.7, 3, 0, False), (0.3, 4, 0, False)]\n",
    "        self.P[1][0] = [(0.7, 5, 10, True), (0.3, 5, 0, True)]\n",
    "        self.P[1][1] = [(0.7, 5, 0, True), (0.3, 5, 10, True)]\n",
    "        self.P[2][0] = [(0.7, 5, 0, True), (0.3, 5, 10, True)]\n",
    "        self.P[2][1] = [(0.7, 5, 0, True), (0.3, 5, 25, True)]\n",
    "        self.P[3][0] = [(0.7, 5, 25, True), (0.3, 5, 0, True)]\n",
    "        self.P[3][1] = [(0.7, 5, 10, True), (0.3, 5, 0, True)]\n",
    "        self.P[4][0] = [(0.7, 5, 0, True), (0.3, 5, 10, True)]\n",
    "        self.P[4][1] = [(0.7, 5, 0, True), (0.3, 5, 25, True)]\n",
    "        self.P[5][0] = [(1.0, 5, 0, True)]\n",
    "        self.P[5][1] = [(1.0, 5, 0, True)]\n",
    "        \n",
    "        self.start_state_index = 0\n",
    "        self.initial_state_distrib = np.zeros(self.nS)\n",
    "        self.initial_state_distrib[self.start_state_index] = 1.0\n",
    "    \n",
    "    def reset(self):\n",
    "        pass\n",
    "    \n",
    "    def step(self, action):\n",
    "        pass\n",
    "    \n",
    "    def render(self, mode='console', close=False):\n",
    "        pass"
   ]
  },
  {
   "cell_type": "markdown",
   "id": "2ad04c93",
   "metadata": {},
   "source": [
    "# Compute the state-values and action-values\n",
    "When $s$ is a terminal state, (that is, the second stage), the action-values and the state-values are respectively computed by\n",
    "\\begin{align}\n",
    "  Q^\\pi (s, a) &= \\mathbb{E}_{r \\sim p(r \\mid s, a)} [r], \\\\\n",
    "  V^\\pi (s) &= \\mathbb{E}_{a \\sim \\pi(a \\mid s)} [ Q^\\pi (s, a) ],\n",
    "\\end{align}\n",
    "where $\\pi$ is a policy.\n",
    "When $s = s_1$, (that is, the first stage), they are given by\n",
    "\\begin{align}\n",
    "  Q^\\pi (s, a) &= \\mathbb{E}_{(s', r) \\sim p(r \\mid s, a)} [r + \\gamma V^\\pi(s')], \\\\\n",
    "  V^\\pi (s) &= \\mathbb{E}_{a \\sim \\pi(a \\mid s)} [ Q^\\pi (s, a) ].\n",
    "\\end{align}\n",
    "The following function computes the state- and action-values of the two-stage MDP task. "
   ]
  },
  {
   "cell_type": "code",
   "execution_count": null,
   "id": "38f0c111",
   "metadata": {},
   "outputs": [],
   "source": [
    "def compute_value(env, p0=0.5, p1=0.5, p2=0.5, p3=0.5, p4=0.5):\n",
    "    \"\"\"Compute the state- and action-values of the two-stage MDP task.\n",
    "    \n",
    "    Parameters\n",
    "    ----------\n",
    "    env : gym.Env\n",
    "        Two-stage MDP environment.\n",
    "    p0, ..., p4 : float\n",
    "        probability to select a0 at state s0, ..., s4.\n",
    "    \n",
    "    Return\n",
    "    ------\n",
    "    V : ndarray\n",
    "        state-value function (1D array).\n",
    "    Q : ndarray\n",
    "        action-value function (2D array).\n",
    "    \"\"\"\n",
    "    gamma = 1.0  # discount factor\n",
    "    \n",
    "    # Initialize a stochastic policy (nS x nA array).\n",
    "    policy = np.empty((env.nS, env.nA), dtype=np.float64)\n",
    "    policy[0:5, 0] = np.array([p0, p1, p2, p3, p4])\n",
    "    policy[0:5, 1] = 1.0 - policy[0:5, 0]\n",
    "    \n",
    "    Q = np.zeros([env.nS, env.nA])\n",
    "    V = np.zeros([env.nS, 1])\n",
    "\n",
    "    # Compute the state- and action-values at the second stage\n",
    "    # (terminal state)\n",
    "    # See the lecture slide.\n",
    "    for state in range(0, env.nS):        \n",
    "        for action in range(0, env.nA):\n",
    "            for prob, next_state, reward, done in env.P[state][action]:\n",
    "                Q[state, action] += prob*reward\n",
    "\n",
    "            V[state] += (policy[state, action] * Q[state, action])\n",
    "\n",
    "    # Compute the state- and action-values at the first stage\n",
    "    # See the lecture slide.\n",
    "    for action in range(0, env.nA):\n",
    "        for prob, next_state, reward, done in env.P[0][action]:\n",
    "            Q[0, action] += prob*(reward + gamma*V[next_state])\n",
    "\n",
    "        V[0] += (policy[0, action] * Q[0, action])\n",
    "\n",
    "    return V, Q"
   ]
  },
  {
   "cell_type": "markdown",
   "id": "b3e6ce67",
   "metadata": {},
   "source": [
    "# Results\n",
    "Here, p0 is the probability to select the action $a_0$ at the state $s_0$. Then, the probability to select $a_1$ at $s_0$ is given by $1 -$ p0. Similarly, p1 is the probability to select $a_0$ at $s_1$.\n",
    "The first array shows the state-value function, $V^\\pi (s)$. The second 2-D array shows the action-value function, $Q^\\pi(s, a)$. "
   ]
  },
  {
   "cell_type": "code",
   "execution_count": null,
   "id": "6704f056",
   "metadata": {},
   "outputs": [],
   "source": [
    "env = TwoStageMDPEnv()\n",
    "interact(compute_value, env=fixed(env), p0=(0, 1, 0.1), p1=(0, 1, 0.1), p2=(0, 1, 0.1), p3=(0, 1, 0.1), p4=(0, 1, 0.1));"
   ]
  },
  {
   "cell_type": "markdown",
   "id": "b3a197ea",
   "metadata": {},
   "source": [
    "# Find a policy\n",
    "Next, please find a policy that maximizes the state-value function $V^\\pi(s)$ for all states. For comparison, three value functions are also visualized:\n",
    "- Uniform policy: select $a_0$ with probability 0.5. \n",
    "- Always left: simply select $a_0$ with probability 1.0.\n",
    "- Optimal policy: select an optimal action. We will study how to find an optimal policy in the next lecture.\n",
    "- User-specified policy: "
   ]
  },
  {
   "cell_type": "code",
   "execution_count": null,
   "id": "3938f0ab",
   "metadata": {},
   "outputs": [],
   "source": [
    "def plotV(p0=0.5, p1=0.5, p2=0.5, p3=0.5, p4=0.5):\n",
    "    \"\"\"Plot state-value functions.\n",
    "    \n",
    "    Parameters\n",
    "    ----------\n",
    "    p0, ..., p4 : float\n",
    "        probability to select a0 at state s0, ..., s4.\n",
    "    \n",
    "    \"\"\"    \n",
    "    # Uniform policy\n",
    "    Vuniform, _ = compute_value(env, 0.5, 0.5, 0.5, 0.5, 0.5)\n",
    "    # Always left\n",
    "    Vleft, _ = compute_value(env, 1.0, 1.0, 1.0, 1.0, 1.0)\n",
    "    # Optimal policy\n",
    "    Voptimal, _ = compute_value(env, 0.0, 1.0, 0.0, 1.0, 0.0)\n",
    "    # User-specified policy\n",
    "    Vuser, _ = compute_value(env, p0, p1, p2, p3, p4)\n",
    "    \n",
    "    fig = plt.figure(figsize=(8, 5))\n",
    "    axarr = fig.subplots(1, 1)\n",
    "    axarr.plot(Vuniform, label='uniform')\n",
    "    axarr.plot(Vleft, label='always left')\n",
    "    axarr.plot(Voptimal, label='optimal')\n",
    "    axarr.plot(Vuser, label='user')\n",
    "\n",
    "    axarr.set_xlabel('state')\n",
    "    axarr.set_ylabel('V(s)')\n",
    "    axarr.legend()\n",
    "\n",
    "interact(plotV, p0=(0, 1, 0.1), p1=(0, 1, 0.1), p2=(0, 1, 0.1), p3=(0, 1, 0.1), p4=(0, 1, 0.1));"
   ]
  },
  {
   "cell_type": "code",
   "execution_count": null,
   "id": "f3a6b445",
   "metadata": {},
   "outputs": [],
   "source": []
  }
 ],
 "metadata": {
  "kernelspec": {
   "display_name": "Python 3 (ipykernel)",
   "language": "python",
   "name": "python3"
  },
  "language_info": {
   "codemirror_mode": {
    "name": "ipython",
    "version": 3
   },
   "file_extension": ".py",
   "mimetype": "text/x-python",
   "name": "python",
   "nbconvert_exporter": "python",
   "pygments_lexer": "ipython3",
   "version": "3.10.5"
  }
 },
 "nbformat": 4,
 "nbformat_minor": 5
}
