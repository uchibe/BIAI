{
 "cells": [
  {
   "cell_type": "markdown",
   "id": "08393f23",
   "metadata": {},
   "source": [
    "# Two-Stage Task\n"
   ]
  },
  {
   "cell_type": "code",
   "execution_count": 43,
   "id": "a0070977",
   "metadata": {},
   "outputs": [],
   "source": [
    "# from contextlib import closing\n",
    "# from io import StringIO\n",
    "# from os import path\n",
    "# from typing import List, Optional\n",
    "\n",
    "import numpy as np\n",
    "\n",
    "from gym import Env, spaces, utils\n",
    "# from gym.envs.toy_text.utils import categorical_sample\n",
    "# from gym.utils.renderer import Renderer\n",
    "\n",
    "\n",
    "class TwoStageMDPEnv(Env):\n",
    "    def __init__(self):\n",
    "        self.nA = 2     # number of actions\n",
    "        self.nS = 6     # number of states\n",
    "        self.observation_space = spaces.Discrete(self.nS, )\n",
    "        self.action_space = spaces.Discrete(self.nA, )\n",
    "        \n",
    "        # set the state transitions and rewards        \n",
    "        self.P = {s: {a: [] for a in range(self.nA)} for s in range(self.nS)}\n",
    "        self.P[0][0] = [(0.7, 1, 0, False), (0.3, 2, 0, False)]\n",
    "        self.P[0][1] = [(0.7, 3, 0, False), (0.3, 4, 0, False)]\n",
    "        self.P[1][0] = [(0.7, 5, 10, True), (0.3, 5, 0, True)]\n",
    "        self.P[1][1] = [(0.7, 5, 0, True), (0.3, 5, 10, True)]\n",
    "        self.P[2][0] = [(0.7, 5, 0, True), (0.3, 5, 10, True)]\n",
    "        self.P[2][1] = [(0.7, 5, 0, True), (0.3, 5, 25, True)]\n",
    "        self.P[3][0] = [(0.7, 5, 25, True), (0.3, 5, 0, True)]\n",
    "        self.P[3][1] = [(0.7, 5, 10, True), (0.3, 5, 0, True)]\n",
    "        self.P[4][0] = [(0.7, 5, 0, True), (0.3, 5, 10, True)]\n",
    "        self.P[4][1] = [(0.7, 5, 0, True), (0.3, 5, 25, True)]\n",
    "        self.P[5][0] = [(1.0, 5, 0, True)]\n",
    "        self.P[5][1] = [(1.0, 5, 0, True)]\n",
    "        \n",
    "        self.start_state_index = 0\n",
    "        self.initial_state_distrib = np.zeros(self.nS)\n",
    "        self.initial_state_distrib[self.start_state_index] = 1.0\n",
    "    \n",
    "    def reset(self):\n",
    "        pass\n",
    "    \n",
    "    def step(self, action):\n",
    "        pass\n",
    "    \n",
    "    def render(self, mode='console', close=False):\n",
    "        pass\n"
   ]
  },
  {
   "cell_type": "code",
   "execution_count": 56,
   "id": "38f0c111",
   "metadata": {},
   "outputs": [
    {
     "name": "stdout",
     "output_type": "stream",
     "text": [
      "1 [5.]\n",
      "2 [5.25]\n",
      "3 [12.25]\n",
      "4 [5.25]\n",
      "[[ 7.6125]\n",
      " [ 5.    ]\n",
      " [ 5.25  ]\n",
      " [12.25  ]\n",
      " [ 5.25  ]\n",
      " [ 0.    ]]\n",
      "[[ 5.075 10.15 ]\n",
      " [ 7.     3.   ]\n",
      " [ 3.     7.5  ]\n",
      " [17.5    7.   ]\n",
      " [ 3.     7.5  ]\n",
      " [ 0.     0.   ]]\n"
     ]
    }
   ],
   "source": [
    "def compute_value(env, policy):\n",
    "    Q = np.zeros([env.nS, env.nA])\n",
    "    V = np.zeros([env.nS, 1])\n",
    "\n",
    "    # compute the state- and action-values at the second stage\n",
    "    for state in range(0, env.nS):        \n",
    "        for action in range(0, env.nA):\n",
    "            for prob, next_state, reward, done in env.P[state][action]:\n",
    "                Q[state][action] += prob*reward\n",
    "\n",
    "            V[state] += (policy[state][action] * Q[state][action])\n",
    "\n",
    "    # compute the state- and action-values at the first stage\n",
    "    for action in range(0, env.nA):\n",
    "        for prob, next_state, reward, done in env.P[0][action]:\n",
    "            print(next_state, V[next_state])\n",
    "            Q[0][action] += prob*(reward + V[next_state])\n",
    "\n",
    "        V[0] += (policy[0][action] * Q[0][action])\n",
    "\n",
    "    return V, Q\n",
    "\n",
    "\n",
    "env = TwoStageMDPEnv()\n",
    "policy = np.tile([0.5, 0.5], [env.nS, 1])\n",
    "V, Q = compute_value(env, policy)\n",
    "print(V)\n",
    "print(Q)"
   ]
  },
  {
   "cell_type": "code",
   "execution_count": null,
   "id": "6704f056",
   "metadata": {},
   "outputs": [],
   "source": [
    "\n",
    "print(policy)"
   ]
  },
  {
   "cell_type": "code",
   "execution_count": null,
   "id": "f1becc67",
   "metadata": {},
   "outputs": [],
   "source": [
    "for x in dir(env):\n",
    "    print(x, ':', type(eval(\"env.\"+x)))\n",
    "    \n",
    "# policy = np.array([0.7, 0.3]*env.env.nS)\n",
    "\n",
    "# print(policy)"
   ]
  },
  {
   "cell_type": "code",
   "execution_count": null,
   "id": "3938f0ab",
   "metadata": {},
   "outputs": [],
   "source": []
  }
 ],
 "metadata": {
  "kernelspec": {
   "display_name": "Python 3 (ipykernel)",
   "language": "python",
   "name": "python3"
  },
  "language_info": {
   "codemirror_mode": {
    "name": "ipython",
    "version": 3
   },
   "file_extension": ".py",
   "mimetype": "text/x-python",
   "name": "python",
   "nbconvert_exporter": "python",
   "pygments_lexer": "ipython3",
   "version": "3.10.5"
  }
 },
 "nbformat": 4,
 "nbformat_minor": 5
}
