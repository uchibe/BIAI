{
  "cells": [
    {
      "cell_type": "markdown",
      "metadata": {
        "id": "view-in-github",
        "colab_type": "text"
      },
      "source": [
        "<a href=\"https://colab.research.google.com/github/uchibe/BIAI/blob/develop/notebooks/sample_ipywidgets.ipynb\" target=\"_parent\"><img src=\"https://colab.research.google.com/assets/colab-badge.svg\" alt=\"Open In Colab\"/></a>"
      ]
    },
    {
      "cell_type": "code",
      "execution_count": null,
      "metadata": {
        "id": "KxCe8ZTTVrGf"
      },
      "outputs": [],
      "source": [
        "%matplotlib inline\n",
        "import ipywidgets as widgets\n",
        "from ipywidgets import interact\n",
        "import numpy as np\n",
        "import matplotlib.pyplot as plt"
      ]
    },
    {
      "cell_type": "code",
      "execution_count": null,
      "metadata": {
        "id": "8DCx_5sCVrGj"
      },
      "outputs": [],
      "source": [
        "def scatter(num_data):\n",
        "    x = np.linspace(0, num_data, 1000)\n",
        "    plt.plot(x, np.sin(x))\n",
        "    plt.xlim(0, 10)\n",
        "    plt.ylim(-1.0, 1.0)\n",
        "    plt.show()\n",
        "\n",
        "interact(scatter, num_data=(0, 10, 0.1));"
      ]
    },
    {
      "cell_type": "code",
      "execution_count": null,
      "metadata": {
        "id": "FB6fx2F0VrGk"
      },
      "outputs": [],
      "source": [
        "def h(amp=1.0, omega=1.0, phase=0.0, fn=np.sin):\n",
        "    domain = [-np.pi, np.pi]\n",
        "    x = np.linspace(domain[0], domain[1], 100)\n",
        "    y  = amp * fn(omega * x + phase)\n",
        "    plt.plot(x, y)\n",
        "    plt.plot(-phase/omega, 0, 'or')\n",
        "    plt.xlim(domain)\n",
        "    plt.ylim([-4, 4])\n",
        "    plt.show()\n",
        "\n",
        "interact(h, amp=(0.1, 4.0, 0.1), omega=(0.1, 4.0, 0.1), phase=(-np.pi, np.pi, 0.1),\n",
        "        fn={'sin':np.sin, 'cos': np.cos, 'tan': np.tan});"
      ]
    },
    {
      "cell_type": "markdown",
      "metadata": {
        "id": "ipQ6PynVVrGk"
      },
      "source": [
        "  # Sample code to use a button\n",
        "  See https://blog.amedama.jp/entry/ipywidgets-jupyter-ui"
      ]
    },
    {
      "cell_type": "code",
      "execution_count": null,
      "metadata": {
        "id": "XBpdzk_mVrGl"
      },
      "outputs": [],
      "source": [
        "def show_widgets():\n",
        "    button = widgets.Button(description='Refresh')\n",
        "    # グラフの描画領域としての Output を用意する\n",
        "    output = widgets.Output()\n",
        "    # アクティブな Axes オブジェクトを取得する\n",
        "    ax = plt.gca()\n",
        "\n",
        "    # NOTE: デコレータを使っても問題はない\n",
        "    # @output.capture(clear_output=True, wait=True)\n",
        "    def on_click(b: widgets.Button) -> None:\n",
        "        # 前回の描画内容をクリアする\n",
        "        ax.clear()\n",
        "        # 描画し直す\n",
        "        rand_x = np.random.randn(100)\n",
        "        rand_y = np.random.randn(100)\n",
        "        ax.plot(rand_x, rand_y, '+')\n",
        "        #  Output に書き出す\n",
        "        with output:\n",
        "            output.clear_output(wait=True)\n",
        "            display(ax.figure)\n",
        "\n",
        "    button.on_click(on_click)\n",
        "    display(button, output)\n",
        "\n",
        "    # セルの出力に描画されるのを抑制するために一旦アクティブな Figure を破棄する\n",
        "    plt.close()\n",
        "\n",
        "    # 最初の 1 回目の描画を手動でトリガーする\n",
        "    button.click()\n",
        "    \n",
        "show_widgets()"
      ]
    },
    {
      "cell_type": "code",
      "execution_count": null,
      "metadata": {
        "id": "qEvSoltTVrGn"
      },
      "outputs": [],
      "source": [
        "# Drawing from a discrete distribution\n",
        "elements = [1.1, 2.2, 3.3]\n",
        "prob = [0.2, 0.5, 0.3]\n",
        "s = np.random.choice(elements, 1000, p=prob)\n",
        "unique, counts = np.unique(s, return_counts=True)\n",
        "print(np.asarray((unique, counts)).T)"
      ]
    }
  ],
  "metadata": {
    "kernelspec": {
      "display_name": "Python 3 (ipykernel)",
      "language": "python",
      "name": "python3"
    },
    "language_info": {
      "codemirror_mode": {
        "name": "ipython",
        "version": 3
      },
      "file_extension": ".py",
      "mimetype": "text/x-python",
      "name": "python",
      "nbconvert_exporter": "python",
      "pygments_lexer": "ipython3",
      "version": "3.10.5"
    },
    "colab": {
      "name": "sample_ipywidgets.ipynb",
      "provenance": [],
      "include_colab_link": true
    }
  },
  "nbformat": 4,
  "nbformat_minor": 0
}