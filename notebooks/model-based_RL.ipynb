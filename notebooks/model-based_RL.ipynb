{
 "cells": [
  {
   "cell_type": "markdown",
   "id": "e795c05d",
   "metadata": {},
   "source": [
    "# Model-based reinforcement learning\n",
    "This notebook implements policy iteration and value iteration algorithms. The algorithms are evaluated on the [FrozenLake](https://www.gymlibrary.dev/environments/toy_text/frozen_lake/) provided by the OpenAI gym. "
   ]
  },
  {
   "cell_type": "code",
   "execution_count": null,
   "id": "6d2eee2e",
   "metadata": {},
   "outputs": [],
   "source": [
    "import numpy as np\n",
    "import matplotlib.pyplot as plt\n",
    "import gym\n",
    "env = gym.make('FrozenLake-v1', map_name=\"8x8\", is_slippery=False)"
   ]
  },
  {
   "cell_type": "markdown",
   "id": "20295102",
   "metadata": {},
   "source": [
    "# Policy iteration\n"
   ]
  },
  {
   "cell_type": "code",
   "execution_count": null,
   "id": "6fb48951",
   "metadata": {},
   "outputs": [],
   "source": [
    "class PolicyIteration:\n",
    "    def __init__(self, env):\n",
    "        self.env = env\n",
    "    \n",
    "    \n",
    "    def __call__(self, gamma=0.9, beta=500, epsilon=1e-5):\n",
    "        n_states = env.observation_space.n\n",
    "        n_actions = env.action_space.n\n",
    "        V = np.zeros(n_states)\n",
    "        policy = np.random.randint(0, n_actions, n_states)\n",
    "\n",
    "        def policy_evaluation():\n",
    "            while True:\n",
    "                delta = 0\n",
    "                for state in range(n_states):\n",
    "                    v_previous = V[state]\n",
    "                    v_current = 0\n",
    "                    action = policy[state]\n",
    "                    for prob, next_state, reward, done in self.env.P[state][action]:\n",
    "                        if done:\n",
    "                            v_current += prob*reward\n",
    "                            V[next_state] = 0\n",
    "                        else:\n",
    "                            v_current += prob*(reward + gamma * V[next_state])\n",
    "                    delta = max(delta, np.abs(v_current - v_previous))\n",
    "                    V[state] = v_current\n",
    "                if delta < epsilon:\n",
    "                    break\n",
    "                        \n",
    "        \n",
    "        def policy_improvement():\n",
    "            policy_stable = True\n",
    "            for state in range(n_states):\n",
    "                optimal_action = policy[state]\n",
    "                Qs = np.zeros(n_actions)\n",
    "                for action in range(n_actions):\n",
    "                    for prob, next_state, reward, done in self.env.P[state][action]:\n",
    "                        if done:\n",
    "                            Qs[action] += prob*reward\n",
    "                        else:\n",
    "                            Qs[action] += prob*(reward + gamma*V[next_state])\n",
    "                policy[state] = np.argmax(Qs)\n",
    "                if optimal_action != policy[state]:\n",
    "                    policy_stable = False\n",
    "\n",
    "\n",
    "            return policy_stable\n",
    "                \n",
    "        \n",
    "        while True:\n",
    "            policy_evaluation()\n",
    "            policy_stable = policy_improvement()\n",
    "            if policy_stable:\n",
    "                break\n",
    "        \n",
    "        return V, policy"
   ]
  },
  {
   "cell_type": "code",
   "execution_count": null,
   "id": "126093dd",
   "metadata": {},
   "outputs": [],
   "source": [
    "policy_iteration = PolicyIteration(env)\n",
    "V, policy = policy_iteration(gamma=0.9, beta=500)\n",
    "print(V)"
   ]
  },
  {
   "cell_type": "markdown",
   "id": "22358f04",
   "metadata": {},
   "source": [
    "# Value iteration"
   ]
  },
  {
   "cell_type": "code",
   "execution_count": null,
   "id": "a01b5fee",
   "metadata": {},
   "outputs": [],
   "source": [
    "class ValueIteration:\n",
    "    def __init__(self, env):\n",
    "        self.env = env\n",
    "\n",
    "    \n",
    "    def __call__(self, gamma=0.9, beta=500, epslion=1e-5):\n",
    "        n_states = env.observation_space.n\n",
    "        n_actions = env.action_space.n\n",
    "        V = np.zeros(n_states)\n",
    "\n",
    "        def compute_action_value(state):\n",
    "            qA = np.zeros(n_actions)\n",
    "            for action in range(n_actions):\n",
    "                for prob, next_state, reward, done in self.env.P[state][action]:\n",
    "                    qA[action] += prob * (reward + gamma * V[next_state])\n",
    "            return qA\n",
    "\n",
    "\n",
    "        def compute_softmax_policy(beta):\n",
    "            policy = np.zeros([n_states, n_actions])\n",
    "            for state in range(n_states):\n",
    "                policy[state] = beta*compute_action_value(state)\n",
    "            policy -= policy.max(axis=1, keepdims=True)\n",
    "            policy = np.exp(policy) / np.exp(policy).sum(axis=1, keepdims=True)\n",
    "\n",
    "            return policy\n",
    "    \n",
    "        while True:\n",
    "            delta = 0\n",
    "            for state in range(n_states):\n",
    "                qA = compute_action_value(state)\n",
    "                max_q = qA.max()\n",
    "                delta = max(delta, np.abs(max_q - V[state]))\n",
    "                V[state] = max_q\n",
    "            if delta < epslion:\n",
    "                break\n",
    "\n",
    "        policy = compute_softmax_policy(beta)\n",
    "\n",
    "        return V, policy"
   ]
  },
  {
   "cell_type": "code",
   "execution_count": null,
   "id": "b61ffa92",
   "metadata": {},
   "outputs": [],
   "source": [
    "value_iteration = ValueIteration(env)\n",
    "V, policy = value_iteration(gamma=0.9, beta=500)\n",
    "print(V)"
   ]
  },
  {
   "cell_type": "code",
   "execution_count": null,
   "id": "4e45574f",
   "metadata": {},
   "outputs": [],
   "source": [
    "state = env.reset()\n",
    "done = False\n",
    "total_rewards = 0\n",
    "while not done:\n",
    "    print(env.render(mode='ansi'))\n",
    "    action = np.random.multinomial(1, policy[state]).argmax()\n",
    "    state, reward, done, _ = env.step(action)\n",
    "    total_rewards += reward\n",
    "print(env.render(mode='ansi'))\n",
    "print('total rewards: %f' % (total_rewards))"
   ]
  },
  {
   "cell_type": "code",
   "execution_count": null,
   "id": "33e2411a",
   "metadata": {},
   "outputs": [],
   "source": []
  }
 ],
 "metadata": {
  "kernelspec": {
   "display_name": "Python 3 (ipykernel)",
   "language": "python",
   "name": "python3"
  },
  "language_info": {
   "codemirror_mode": {
    "name": "ipython",
    "version": 3
   },
   "file_extension": ".py",
   "mimetype": "text/x-python",
   "name": "python",
   "nbconvert_exporter": "python",
   "pygments_lexer": "ipython3",
   "version": "3.10.4"
  }
 },
 "nbformat": 4,
 "nbformat_minor": 5
}
